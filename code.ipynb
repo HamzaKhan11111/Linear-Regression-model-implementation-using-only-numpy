{
 "cells": [
  {
   "cell_type": "markdown",
   "metadata": {},
   "source": [
    "### Importing Required Libraries"
   ]
  },
  {
   "cell_type": "code",
   "execution_count": 1,
   "metadata": {},
   "outputs": [],
   "source": [
    "import numpy as np\n",
    "from sklearn.datasets import load_diabetes"
   ]
  },
  {
   "cell_type": "markdown",
   "metadata": {},
   "source": [
    "### Creating Linear Regression Class"
   ]
  },
  {
   "cell_type": "code",
   "execution_count": 2,
   "metadata": {},
   "outputs": [],
   "source": [
    "class LinearRegression:\n",
    "    def __init__(self,learning_rate=0.01,iterations=None):\n",
    "        self.lr=learning_rate\n",
    "        self.iterations=iterations\n",
    "        \n",
    "    def fit(self,x,y):\n",
    "        self.x=np.hstack((np.ones((x.shape[0],1)),x))\n",
    "        self.y=y\n",
    "        self.theetas=np.random.randint(1,6,size=(x.shape[1]+1,1))\n",
    "\n",
    "    def Get_parameters(self):\n",
    "        return self.theetas\n",
    "\n",
    "    def train(self):\n",
    "        # If user did not set any iterations, then finish when loss is constant or relative error is less than certain threshold (I kept it 0.01)\n",
    "        if self.iterations == None :\n",
    "            self.prev_loss=float('inf')\n",
    "            while True:\n",
    "                self.y_predicted=np.dot(self.x,self.theetas)\n",
    "                self.loss=(1/(2*self.x.shape[0]))*np.sum((self.y-self.y_predicted)**2)\n",
    "                if abs(self.prev_loss-self.loss) < 0.0001:\n",
    "                    break\n",
    "                self.prev_loss=self.loss\n",
    "                self.partial_derivative_wrt_theetas = -(2/self.x.shape[0])*np.dot(self.x.T,(self.y-self.y_predicted))\n",
    "                self.theetas=self.theetas - (self.lr*self.partial_derivative_wrt_theetas)\n",
    "\n",
    "        # If user did set up max number of iterations, then finish on that\n",
    "        else:\n",
    "            for iteration in range(0,self.iterations):\n",
    "                self.y_predicted=np.dot(self.x,self.theetas)\n",
    "                self.loss=(1/(2*self.x.shape[0]))*np.sum((self.y-self.y_predicted)**2)\n",
    "                self.partial_derivative_wrt_theetas = -(1/self.x.shape[0])*np.dot(self.x.T,(self.y-self.y_predicted))\n",
    "                self.theetas=self.theetas - (self.lr*self.partial_derivative_wrt_theetas)\n",
    "\n",
    "    def test(self,X_test,y_test):\n",
    "        self.X_test=np.hstack((np.ones((X_test.shape[0],1)),X_test))\n",
    "        self.y_predicted=np.dot(self.X_test,self.theetas)\n",
    "        self.loss=(1/(2*self.X_test.shape[0]))*np.sum((y_test-self.y_predicted)**2)\n",
    "        return self.loss\n",
    "\n",
    "    def predict(self,X_test):  \n",
    "        self.X_test=np.hstack((np.ones((X_test.shape[0],1)),X_test))\n",
    "        return np.dot(self.X_test,self.theetas)\n"
   ]
  },
  {
   "cell_type": "markdown",
   "metadata": {},
   "source": [
    "### Implementing Train Test Split"
   ]
  },
  {
   "cell_type": "code",
   "execution_count": 3,
   "metadata": {},
   "outputs": [],
   "source": [
    "def train_test_split(X,y,test=0.2):\n",
    "\n",
    "    train_size = X.shape[0]-int(X.shape[0]*test)\n",
    "    permutations=np.random.permutation(X.shape[0])\n",
    "\n",
    "    X=X[permutations]\n",
    "    y=y[permutations]\n",
    "\n",
    "    X_train = X[:train_size]\n",
    "    y_train = y[:train_size]\n",
    "    X_test = X[train_size:]\n",
    "    y_test = y[train_size:]\n",
    "\n",
    "    return X_train, X_test, y_train, y_test\n"
   ]
  },
  {
   "cell_type": "markdown",
   "metadata": {},
   "source": [
    "### Loading Dataset and splitting it"
   ]
  },
  {
   "cell_type": "code",
   "execution_count": 4,
   "metadata": {},
   "outputs": [],
   "source": [
    "diabetes = load_diabetes()\n",
    "X, y = diabetes.data, diabetes.target"
   ]
  },
  {
   "cell_type": "markdown",
   "metadata": {},
   "source": [
    "### Splitting data using implemented train test split"
   ]
  },
  {
   "cell_type": "code",
   "execution_count": 5,
   "metadata": {},
   "outputs": [],
   "source": [
    "X_train, X_test, y_train, y_test = train_test_split(X,y.reshape(-1,1),0.1)"
   ]
  },
  {
   "cell_type": "markdown",
   "metadata": {},
   "source": [
    "### Fitting the data in the Linear Regression Model using 'fit' method"
   ]
  },
  {
   "cell_type": "code",
   "execution_count": 6,
   "metadata": {},
   "outputs": [],
   "source": [
    "lr=LinearRegression(0.0001,1000000)\n",
    "lr.fit(X_train,y_train)"
   ]
  },
  {
   "cell_type": "markdown",
   "metadata": {},
   "source": [
    "### Training The model using 'train' method"
   ]
  },
  {
   "cell_type": "code",
   "execution_count": 7,
   "metadata": {},
   "outputs": [],
   "source": [
    "lr.train()"
   ]
  },
  {
   "cell_type": "markdown",
   "metadata": {},
   "source": [
    "### Printing the Final values of theetas by using Get_parameters function which return the value of trained weights"
   ]
  },
  {
   "cell_type": "code",
   "execution_count": 8,
   "metadata": {},
   "outputs": [
    {
     "name": "stdout",
     "output_type": "stream",
     "text": [
      "[[151.9875856 ]\n",
      " [ 42.34328804]\n",
      " [ -8.48060054]\n",
      " [170.30653177]\n",
      " [117.65785579]\n",
      " [ 43.86648896]\n",
      " [ 31.20105128]\n",
      " [-92.77819031]\n",
      " [ 99.26926577]\n",
      " [149.41258922]\n",
      " [ 91.1567501 ]]\n"
     ]
    }
   ],
   "source": [
    "print(lr.Get_parameters())"
   ]
  },
  {
   "cell_type": "markdown",
   "metadata": {},
   "source": [
    "### Testing the model using 'test' method on testing data\n",
    "### This method returns mean squared error on testing data"
   ]
  },
  {
   "cell_type": "code",
   "execution_count": 9,
   "metadata": {},
   "outputs": [
    {
     "data": {
      "text/plain": [
       "1593.2343235522326"
      ]
     },
     "execution_count": 9,
     "metadata": {},
     "output_type": "execute_result"
    }
   ],
   "source": [
    "lr.test(X_test,y_test)"
   ]
  },
  {
   "cell_type": "markdown",
   "metadata": {},
   "source": [
    "### Predicting the output values against testing data using 'predict' method"
   ]
  },
  {
   "cell_type": "code",
   "execution_count": 10,
   "metadata": {},
   "outputs": [],
   "source": [
    "y_predicted = lr.predict(X_test)"
   ]
  },
  {
   "cell_type": "code",
   "execution_count": 11,
   "metadata": {},
   "outputs": [
    {
     "data": {
      "text/plain": [
       "array([[135.59859521],\n",
       "       [140.47983868],\n",
       "       [200.7184282 ],\n",
       "       [131.84100099],\n",
       "       [118.10861846],\n",
       "       [146.25838179],\n",
       "       [111.90968043],\n",
       "       [138.55173061],\n",
       "       [161.98002046],\n",
       "       [100.49871613],\n",
       "       [151.52033824],\n",
       "       [171.18991376],\n",
       "       [152.70613249],\n",
       "       [116.50558606],\n",
       "       [185.05559713],\n",
       "       [159.81397814],\n",
       "       [186.50916517],\n",
       "       [172.43470841],\n",
       "       [219.60242651],\n",
       "       [117.72239618],\n",
       "       [157.15777431],\n",
       "       [212.26401782],\n",
       "       [175.44149301],\n",
       "       [122.42289202],\n",
       "       [140.26030586],\n",
       "       [195.33918553],\n",
       "       [182.07888545],\n",
       "       [130.31845817],\n",
       "       [108.79737215],\n",
       "       [163.81211493],\n",
       "       [154.18671867],\n",
       "       [141.63411097],\n",
       "       [161.13100643],\n",
       "       [167.79745599],\n",
       "       [107.37457688],\n",
       "       [159.59805802],\n",
       "       [187.93009016],\n",
       "       [179.63772556],\n",
       "       [156.47775366],\n",
       "       [159.89322241],\n",
       "       [138.62620473],\n",
       "       [167.98271185],\n",
       "       [179.13038234],\n",
       "       [188.27139409]])"
      ]
     },
     "execution_count": 11,
     "metadata": {},
     "output_type": "execute_result"
    }
   ],
   "source": [
    "y_predicted"
   ]
  },
  {
   "cell_type": "markdown",
   "metadata": {},
   "source": [
    "### Now using Linear Regression model without specifying hyperparameters (learning rate & maximum number of iterations)"
   ]
  },
  {
   "cell_type": "code",
   "execution_count": 12,
   "metadata": {},
   "outputs": [
    {
     "name": "stdout",
     "output_type": "stream",
     "text": [
      "Printing final values of theetas: \n",
      "\n",
      "[[ 152.33679063]\n",
      " [  10.20502992]\n",
      " [-239.83408827]\n",
      " [ 536.49992125]\n",
      " [ 309.45646644]\n",
      " [ -47.23700892]\n",
      " [-116.3961801 ]\n",
      " [-196.14996793]\n",
      " [ 131.8020955 ]\n",
      " [ 442.81661234]\n",
      " [  82.93509394]]\n",
      "\n",
      "\n",
      "\n",
      "Printing MSE on testing data: \n",
      "\n",
      "1268.5574262653722\n",
      "\n",
      "\n",
      "\n",
      "Predicting labels for testing data: \n",
      "\n",
      "[[123.59983229]\n",
      " [144.72907449]\n",
      " [263.37127945]\n",
      " [125.80329476]\n",
      " [ 87.26142081]\n",
      " [109.18625872]\n",
      " [102.66454471]\n",
      " [106.73600772]\n",
      " [186.93711841]\n",
      " [ 65.80787364]\n",
      " [187.17461068]\n",
      " [176.64242993]\n",
      " [104.92934562]\n",
      " [ 87.33319396]\n",
      " [167.69068756]\n",
      " [174.40130865]\n",
      " [206.41597235]\n",
      " [204.28692962]\n",
      " [291.98720055]\n",
      " [ 69.29450684]\n",
      " [180.63407331]\n",
      " [236.76573267]\n",
      " [177.81993221]\n",
      " [ 79.17212172]\n",
      " [ 99.22753388]\n",
      " [219.88267944]\n",
      " [190.87825982]\n",
      " [ 79.77792392]\n",
      " [ 96.99748822]\n",
      " [190.35372545]\n",
      " [176.5391088 ]\n",
      " [120.17195109]\n",
      " [180.89338862]\n",
      " [210.51383313]\n",
      " [102.34599151]\n",
      " [140.45183872]\n",
      " [231.63176346]\n",
      " [200.17122669]\n",
      " [186.52573213]\n",
      " [183.18480797]\n",
      " [141.76140257]\n",
      " [162.20307442]\n",
      " [224.87130861]\n",
      " [210.8358689 ]]\n"
     ]
    }
   ],
   "source": [
    "lr=LinearRegression()\n",
    "lr.fit(X_train,y_train)\n",
    "\n",
    "lr.train()\n",
    "\n",
    "print(\"Printing final values of theetas: \\n\")\n",
    "print(lr.Get_parameters())\n",
    "print(\"\\n\\n\")\n",
    "\n",
    "print(\"Printing MSE on testing data: \\n\")\n",
    "print(lr.test(X_test,y_test))\n",
    "print(\"\\n\\n\")\n",
    "\n",
    "\n",
    "print(\"Predicting labels for testing data: \\n\")\n",
    "y_predicted = lr.predict(X_test)\n",
    "print(y_predicted)"
   ]
  }
 ],
 "metadata": {
  "kernelspec": {
   "display_name": "Python 3",
   "language": "python",
   "name": "python3"
  },
  "language_info": {
   "codemirror_mode": {
    "name": "ipython",
    "version": 3
   },
   "file_extension": ".py",
   "mimetype": "text/x-python",
   "name": "python",
   "nbconvert_exporter": "python",
   "pygments_lexer": "ipython3",
   "version": "3.11.5"
  },
  "orig_nbformat": 4
 },
 "nbformat": 4,
 "nbformat_minor": 2
}
